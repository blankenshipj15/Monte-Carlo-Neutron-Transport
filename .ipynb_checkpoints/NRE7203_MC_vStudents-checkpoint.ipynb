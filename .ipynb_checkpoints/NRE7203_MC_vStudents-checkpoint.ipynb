{
 "cells": [
  {
   "cell_type": "markdown",
   "metadata": {},
   "source": [
    "# NRE7203: Advanced Reactor Physics"
   ]
  },
  {
   "cell_type": "markdown",
   "metadata": {},
   "source": [
    "Copyright (c) Dan Kotlyar\n",
    "\n",
    "Under Copyright law, you do not have the right to provide these notes to anyone else or to make any commercial use of them without express prior permission from me."
   ]
  },
  {
   "cell_type": "code",
   "execution_count": 15,
   "metadata": {},
   "outputs": [],
   "source": [
    "# import relevant packages\n",
    "import matplotlib.pyplot as plt\n",
    "import numpy as np\n",
    "plt.rcParams['font.size'] = 16"
   ]
  },
  {
   "cell_type": "code",
   "execution_count": 16,
   "metadata": {},
   "outputs": [],
   "source": [
    "%matplotlib inline\n",
    "plt.rcParams['figure.figsize'] = [6, 4] # Set default figure size"
   ]
  },
  {
   "cell_type": "markdown",
   "metadata": {},
   "source": [
    "# Neutron Transport with Monte Carlo"
   ]
  },
  {
   "cell_type": "markdown",
   "metadata": {},
   "source": [
    "##  Description"
   ]
  },
  {
   "cell_type": "markdown",
   "metadata": {},
   "source": [
    "The purpose of this workshop is to implement **two techniques** that are used in Monte Carlo codes:\n",
    "1. Surface (ray-tracing) - **ST**\n",
    "2. Delta tracking - **DT**."
   ]
  },
  {
   "cell_type": "markdown",
   "metadata": {},
   "source": [
    "### Problem set-up"
   ]
  },
  {
   "cell_type": "markdown",
   "metadata": {},
   "source": [
    "We will have a point source (located at the origin) surrounded with multiple shells of heterogeneous materials having unique cross sections. Our objectives are to calculate the:\n",
    "- Flux distribution, which for simplicity is defined as the neutrons crossing a certain surface\n",
    "- Leakage from the system (i.e., sphere)"
   ]
  },
  {
   "cell_type": "markdown",
   "metadata": {},
   "source": [
    "## Set of exercises"
   ]
  },
  {
   "cell_type": "markdown",
   "metadata": {},
   "source": [
    "You are required to complete the following exercises:\n",
    "1. Analytic solution\n",
    "2. Ray-tracing\n",
    "3. Delta tracking"
   ]
  },
  {
   "cell_type": "markdown",
   "metadata": {},
   "source": [
    "### Analytic solution"
   ]
  },
  {
   "cell_type": "markdown",
   "metadata": {},
   "source": [
    "The programming will be done within the ``pointsource_sphere.py`` file.\n",
    "Note that we use object-oriented programming. This is not mandatory and only done here as a means of demonestration.\n",
    "\n",
    "Open the file to familiarize yourself with the ``__init__`` method. This is done together with the lecturer.\n",
    "Note that the entire volume is divided to equal-volume shells, according to which the corresponding radii are calculated. Also, the total and absorption cross sections are identical (i.e., no scattering)"
   ]
  },
  {
   "cell_type": "markdown",
   "metadata": {},
   "source": [
    "**Complete** the ``_Analytic`` function that enables to calculate the analytic solution. "
   ]
  },
  {
   "cell_type": "markdown",
   "metadata": {},
   "source": [
    "The _analytic solution_ can be derived as:\n",
    "\n",
    "$\\frac{I(R_i)}{I_0}={\\prod}_{j=1}^i e^{-\\Sigma_{t,j}\\Delta R_j}$\n",
    "\n",
    "with the _leakage calculated_ when $i$ represents the last shell (i.e., $R_{sphere}$)"
   ]
  },
  {
   "cell_type": "markdown",
   "metadata": {},
   "source": [
    "**Import the class**:"
   ]
  },
  {
   "cell_type": "markdown",
   "metadata": {},
   "source": [
    "```python\n",
    "    >>> mc = PointSourceInSphere(nMC, S0, R, sigT)\n",
    "```\n",
    "\n",
    "where,\n",
    "- ``nMC`` is the number of Monte Carlo repetitive simulations\n",
    "- ``S0``  is the number of source neutrons\n",
    "- ``R`` is the radius of the sphere in cm\n",
    "- ``sigT`` total cross section array for all the different regions"
   ]
  },
  {
   "cell_type": "markdown",
   "metadata": {},
   "source": [
    "**results** are stored under the ``resAN``, ``resST``, ``resDT`` dictionaries on the created ``mc`` object."
   ]
  },
  {
   "cell_type": "markdown",
   "metadata": {},
   "source": [
    "**Define inputs and execute analytic solution**"
   ]
  },
  {
   "cell_type": "code",
   "execution_count": 17,
   "metadata": {},
   "outputs": [],
   "source": [
    "from pointsource_sphere import PointSourceInSphere"
   ]
  },
  {
   "cell_type": "code",
   "execution_count": 18,
   "metadata": {},
   "outputs": [],
   "source": [
    "mc = PointSourceInSphere(10, 5000, 12.0, np.full(10, 0.10))"
   ]
  },
  {
   "cell_type": "code",
   "execution_count": 19,
   "metadata": {},
   "outputs": [],
   "source": [
    "mc.Solve('analytic')"
   ]
  },
  {
   "cell_type": "code",
   "execution_count": 20,
   "metadata": {
    "scrolled": true
   },
   "outputs": [
    {
     "data": {
      "text/plain": [
       "{'flx': array([2864.65307591, 2478.54985995, 2239.19935761, 2065.28938118,\n",
       "        1928.99141082, 1817.23972292, 1722.80385244, 1641.24744906,\n",
       "        1569.64683926, 1505.97105956]),\n",
       " 'leakage': 0.30119421191220236}"
      ]
     },
     "execution_count": 20,
     "metadata": {},
     "output_type": "execute_result"
    }
   ],
   "source": [
    "mc.resAN"
   ]
  },
  {
   "cell_type": "code",
   "execution_count": 21,
   "metadata": {},
   "outputs": [
    {
     "name": "stdout",
     "output_type": "stream",
     "text": [
      "Leakage = 30.12 %\n"
     ]
    }
   ],
   "source": [
    "print(\"Leakage = {:.2f} %\".format(100*mc.resAN['leakage']))"
   ]
  },
  {
   "cell_type": "code",
   "execution_count": 22,
   "metadata": {},
   "outputs": [
    {
     "name": "stdout",
     "output_type": "stream",
     "text": [
      "Expected leakage = 30.12 %\n"
     ]
    }
   ],
   "source": [
    "# Sanity check\n",
    "print(\"Expected leakage = {:.2f} %\".format(100*np.exp(-12*0.1)))"
   ]
  },
  {
   "cell_type": "code",
   "execution_count": 23,
   "metadata": {},
   "outputs": [],
   "source": [
    "mc.PlotFluxes('')"
   ]
  },
  {
   "cell_type": "markdown",
   "metadata": {},
   "source": [
    "### Ray-tracing"
   ]
  },
  {
   "cell_type": "markdown",
   "metadata": {},
   "source": [
    "Complete the ``_SolveST`` method. \n",
    "Note that the sampling of the point source should not be performed at all as it is known that all the neutrons are born in the origin.\n",
    "However, the purpose was to describe the general sampling approach within the sphere.\n",
    "\n",
    "Also, all the source neutrons are sampled simultaneously (vectorized) as opposed to one-by-one.\n",
    "**The general approach of ST is**:\n",
    "1. Sample $x_0$, $y_0$, $z_0$\n",
    "2. Sample distance traveled $S_i$\n",
    "3. Update the position  $x_1$, $y_1$, $z_1$\n",
    "4. Check if the position is within the shell where the neutrons originated or not\n",
    "   - If within the shell, then terminate the neutron\n",
    "   - Otherwise, promote the neutron in the same direction to the end of the shell and update $x_0$, $y_0$, $z_0$ and go to step 2. \n",
    "5. If the neutron crossses the last shell terminate it\n",
    "6. Our scoring is fairly random here and we will be scoring neutrons that crossed a specific surface. This is easy to do with ST and in this specific case even easier as all the neutrons are traveling in the radial direction only and no scattering events are happening."
   ]
  },
  {
   "cell_type": "markdown",
   "metadata": {},
   "source": [
    "**Define inputs and execute ST solution**"
   ]
  },
  {
   "cell_type": "code",
   "execution_count": 24,
   "metadata": {},
   "outputs": [],
   "source": [
    "mc.Solve('ST')"
   ]
  },
  {
   "cell_type": "code",
   "execution_count": 25,
   "metadata": {},
   "outputs": [
    {
     "data": {
      "text/plain": [
       "{'flx': array([2863.8, 2484.9, 2246.5, 2084.1, 1944.5, 1829.5, 1734.4, 1656.2,\n",
       "        1583.6, 1517.9]),\n",
       " 'errflx': array([34.68659684, 39.67228252, 42.03391488, 42.5169378 , 48.02134942,\n",
       "        49.32595666, 46.77648982, 46.02999022, 45.22432974, 42.04866229]),\n",
       " 'leakage': 0.30358,\n",
       " 'errleakage': 0.008409732457099936}"
      ]
     },
     "execution_count": 25,
     "metadata": {},
     "output_type": "execute_result"
    }
   ],
   "source": [
    "mc.resST"
   ]
  },
  {
   "cell_type": "code",
   "execution_count": 26,
   "metadata": {},
   "outputs": [],
   "source": [
    "mc.PlotFluxes('ST')"
   ]
  },
  {
   "cell_type": "code",
   "execution_count": 27,
   "metadata": {},
   "outputs": [
    {
     "name": "stdout",
     "output_type": "stream",
     "text": [
      "Analytic Leakage = 30.12 %\n",
      "MC/ST Leakage = 30.36 %\n"
     ]
    }
   ],
   "source": [
    "print(\"Analytic Leakage = {:.2f} %\".format(100*mc.resAN['leakage']))\n",
    "print(\"MC/ST Leakage = {:.2f} %\".format(100*mc.resST['leakage']))"
   ]
  },
  {
   "cell_type": "code",
   "execution_count": null,
   "metadata": {},
   "outputs": [],
   "source": []
  },
  {
   "cell_type": "markdown",
   "metadata": {},
   "source": [
    "### Delta tracking"
   ]
  },
  {
   "cell_type": "markdown",
   "metadata": {},
   "source": [
    "Complete the ``_SolveDT`` method. \n",
    "\n",
    "**The general approach of DT is**:\n",
    "1. Sample $x_0$, $y_0$, $z_0$\n",
    "2. Sample virtual distance traveled $S_i$ using the majorant cross section.\n",
    "3. Update the position  $x_1$, $y_1$, $z_1$\n",
    "4. Accept the virtual collision as a real one by sampling uniformly from [0, 1] and comparing to the $\\Sigma_t/\\Sigma_{maj}$\n",
    "   - If virtual collision accepted, then terminate the neutron\n",
    "   - Otherwise, use the new position as $x_0$, $y_0$, $z_0$ and go to step 2. "
   ]
  },
  {
   "cell_type": "markdown",
   "metadata": {},
   "source": [
    "**Define inputs and execute ST solution**"
   ]
  },
  {
   "cell_type": "code",
   "execution_count": 14,
   "metadata": {},
   "outputs": [
    {
     "ename": "NameError",
     "evalue": "name 'COMPLETE' is not defined",
     "output_type": "error",
     "traceback": [
      "\u001b[1;31m---------------------------------------------------------------------------\u001b[0m",
      "\u001b[1;31mNameError\u001b[0m                                 Traceback (most recent call last)",
      "Cell \u001b[1;32mIn[14], line 1\u001b[0m\n\u001b[1;32m----> 1\u001b[0m mc\u001b[38;5;241m.\u001b[39mSolve(\u001b[38;5;124m'\u001b[39m\u001b[38;5;124mDT\u001b[39m\u001b[38;5;124m'\u001b[39m)\n",
      "File \u001b[1;32m~\\reactor_physics\\NRE7203_Workshop_02_03_MC_vStudents\\pointsource_sphere.py:128\u001b[0m, in \u001b[0;36mPointSourceInSphere.Solve\u001b[1;34m(self, scheme)\u001b[0m\n\u001b[0;32m    126\u001b[0m leakage \u001b[38;5;241m=\u001b[39m np\u001b[38;5;241m.\u001b[39mzeros(nMC)\n\u001b[0;32m    127\u001b[0m \u001b[38;5;28;01mfor\u001b[39;00m i \u001b[38;5;129;01min\u001b[39;00m \u001b[38;5;28mrange\u001b[39m(nMC):\n\u001b[1;32m--> 128\u001b[0m     flux[:, i], leakage[i] \u001b[38;5;241m=\u001b[39m \u001b[38;5;28mself\u001b[39m\u001b[38;5;241m.\u001b[39m_SolveDT()  \n\u001b[0;32m    129\u001b[0m \u001b[38;5;28mself\u001b[39m\u001b[38;5;241m.\u001b[39mresDT \u001b[38;5;241m=\u001b[39m {\u001b[38;5;124m'\u001b[39m\u001b[38;5;124mflx\u001b[39m\u001b[38;5;124m'\u001b[39m: np\u001b[38;5;241m.\u001b[39mmean(flux, \u001b[38;5;241m1\u001b[39m), \n\u001b[0;32m    130\u001b[0m               \u001b[38;5;124m'\u001b[39m\u001b[38;5;124merrflx\u001b[39m\u001b[38;5;124m'\u001b[39m: np\u001b[38;5;241m.\u001b[39mstd(flux, \u001b[38;5;241m1\u001b[39m),\n\u001b[0;32m    131\u001b[0m               \u001b[38;5;124m'\u001b[39m\u001b[38;5;124mleakage\u001b[39m\u001b[38;5;124m'\u001b[39m: np\u001b[38;5;241m.\u001b[39mmean(leakage), \n\u001b[0;32m    132\u001b[0m               \u001b[38;5;124m'\u001b[39m\u001b[38;5;124merrleakage\u001b[39m\u001b[38;5;124m'\u001b[39m: np\u001b[38;5;241m.\u001b[39mstd(leakage)}  \n\u001b[0;32m    133\u001b[0m \u001b[38;5;28mself\u001b[39m\u001b[38;5;241m.\u001b[39mtimes[\u001b[38;5;124m'\u001b[39m\u001b[38;5;124mDT\u001b[39m\u001b[38;5;124m'\u001b[39m] \u001b[38;5;241m=\u001b[39m time\u001b[38;5;241m.\u001b[39mtime() \u001b[38;5;241m-\u001b[39m start_time\n",
      "File \u001b[1;32m~\\reactor_physics\\NRE7203_Workshop_02_03_MC_vStudents\\pointsource_sphere.py:257\u001b[0m, in \u001b[0;36mPointSourceInSphere._SolveDT\u001b[1;34m(self)\u001b[0m\n\u001b[0;32m    255\u001b[0m \u001b[38;5;66;03m# Particles are \"born\" in the most-inner sphere (R,teta,phi)\u001b[39;00m\n\u001b[0;32m    256\u001b[0m Rin \u001b[38;5;241m=\u001b[39m \u001b[38;5;241m0.0\u001b[39m  \u001b[38;5;66;03m# fake radius (just to show how a position is sampled)\u001b[39;00m\n\u001b[1;32m--> 257\u001b[0m R0 \u001b[38;5;241m=\u001b[39m COMPLETE       \u001b[38;5;66;03m# sample radius\u001b[39;00m\n\u001b[0;32m    258\u001b[0m theta \u001b[38;5;241m=\u001b[39m np\u001b[38;5;241m.\u001b[39marccos( \u001b[38;5;241m1\u001b[39m\u001b[38;5;241m-\u001b[39m\u001b[38;5;241m2\u001b[39m\u001b[38;5;241m*\u001b[39mxipos[:, \u001b[38;5;241m1\u001b[39m] )  \u001b[38;5;66;03m# teta angle   \u001b[39;00m\n\u001b[0;32m    259\u001b[0m phi \u001b[38;5;241m=\u001b[39m \u001b[38;5;241m2\u001b[39m\u001b[38;5;241m*\u001b[39mnp\u001b[38;5;241m.\u001b[39mpi\u001b[38;5;241m*\u001b[39mxipos[:, \u001b[38;5;241m2\u001b[39m]             \u001b[38;5;66;03m# phi angle\u001b[39;00m\n",
      "\u001b[1;31mNameError\u001b[0m: name 'COMPLETE' is not defined"
     ]
    }
   ],
   "source": [
    "mc.Solve('DT')"
   ]
  },
  {
   "cell_type": "code",
   "execution_count": null,
   "metadata": {},
   "outputs": [],
   "source": [
    "mc.resDT"
   ]
  },
  {
   "cell_type": "code",
   "execution_count": null,
   "metadata": {},
   "outputs": [],
   "source": [
    "mc.PlotFluxes('DT')"
   ]
  },
  {
   "cell_type": "code",
   "execution_count": null,
   "metadata": {},
   "outputs": [],
   "source": [
    "print(\"Analytic Leakage = {:.2f} %\".format(100*mc.resAN['leakage']))\n",
    "print(\"MC/ST Leakage = {:.2f} %\".format(100*mc.resST['leakage']))\n",
    "print(\"MC/DT Leakage = {:.2f} %\".format(100*mc.resDT['leakage']))"
   ]
  },
  {
   "cell_type": "markdown",
   "metadata": {},
   "source": [
    "**Execution times**"
   ]
  },
  {
   "cell_type": "code",
   "execution_count": null,
   "metadata": {},
   "outputs": [],
   "source": [
    "print(\"ST = {:.2f}\".format(mc.times['ST']))\n",
    "print(\"DT = {:.2f}\".format(mc.times['DT']))"
   ]
  },
  {
   "cell_type": "code",
   "execution_count": null,
   "metadata": {},
   "outputs": [],
   "source": [
    "mc.PlotDifferences()"
   ]
  },
  {
   "cell_type": "markdown",
   "metadata": {},
   "source": [
    "#### Sensitivity Analysis"
   ]
  },
  {
   "cell_type": "markdown",
   "metadata": {},
   "source": [
    "Perform the following changes:\n",
    "1. Increase/reduce the number of shells\n",
    "2. Introduce high absorption/total cross section in one of the shells (perhaps a thinner shell)\n",
    "3. Change the statistics ($S_0$ and ``nMC``)"
   ]
  },
  {
   "cell_type": "markdown",
   "metadata": {},
   "source": [
    "**Try to understand and comment on all of the above points in the class (if time permits)**\n",
    "1. ?\n",
    "2. ?\n",
    "3. ?"
   ]
  },
  {
   "cell_type": "markdown",
   "metadata": {},
   "source": [
    "### How to convert the jupyter notebook to .rst"
   ]
  },
  {
   "cell_type": "markdown",
   "metadata": {},
   "source": [
    "These Jupyter notebooks can be converted to ``.rst`` files for inclusion in the manual with the command:\n",
    "\n",
    "```python\n",
    "jupyter nbconvert --to=rst <file>, with:\n",
    "```\n",
    "**Example**:\n",
    "\n",
    "```python\n",
    ">>> jupyter nbconvert --to=rst Notebook.ipynb\n",
    "```\n",
    "\n",
    "However, there are some tweaks that should be made so that the documentation renders properly.\n",
    "\n",
    "The nbconvert command will place the following blocks around python code:\n",
    "\n",
    "```python\n",
    ".. code:: ipython3\n",
    "\n",
    "    print('hello world!')\n",
    "\n",
    ".. parsed-literal::\n",
    "\n",
    "    hello world!\n",
    "```"
   ]
  },
  {
   "cell_type": "markdown",
   "metadata": {},
   "source": [
    "It might be needed to install ``pandoc``.\n",
    "https://pandoc.org/installing.html\n",
    "\n",
    "This could be done using:\n",
    "\n",
    "```python\n",
    " pip install pandoc\n",
    "```"
   ]
  },
  {
   "cell_type": "code",
   "execution_count": null,
   "metadata": {},
   "outputs": [],
   "source": []
  }
 ],
 "metadata": {
  "kernelspec": {
   "display_name": "Python 3 (ipykernel)",
   "language": "python",
   "name": "python3"
  },
  "language_info": {
   "codemirror_mode": {
    "name": "ipython",
    "version": 3
   },
   "file_extension": ".py",
   "mimetype": "text/x-python",
   "name": "python",
   "nbconvert_exporter": "python",
   "pygments_lexer": "ipython3",
   "version": "3.12.7"
  }
 },
 "nbformat": 4,
 "nbformat_minor": 4
}
